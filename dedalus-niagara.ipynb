{
 "cells": [
  {
   "cell_type": "markdown",
   "metadata": {},
   "source": [
    "Installing dedalus on niagara@scinet.computecanada.ca\n",
    "\n",
    "Thank you Danny Gruner and Mike Nolta, from Compute Canada and SciNet, for help with these instructions. They are current as of July 2018, and could use an update.\n",
    "\n",
    "NOTE: you cannot execute cells since they are meant to be bash script."
   ]
  },
  {
   "cell_type": "markdown",
   "metadata": {},
   "source": [
    "# Installing for the first time\n",
    "\n",
    "Your results will be eventually published, and data sharing policies are being set in place by most publishers (it is also good practice). To facilitate the sharing of code, it is good to do a fresh install for every project, in order for it to be a shelf-containing git repository. Therefore, I recommend to follow these instructions for each article you plan to write, or per project.\n",
    "\n",
    "For `$HOME`, create a directory that will contain your project."
   ]
  },
  {
   "cell_type": "raw",
   "metadata": {},
   "source": [
    "mkdir ~/MyProject/\n",
    "cd ~/MyProject"
   ]
  },
  {
   "cell_type": "markdown",
   "metadata": {},
   "source": [
    "Then, do the install in the directory above:"
   ]
  },
  {
   "cell_type": "raw",
   "metadata": {},
   "source": [
    "module purge\n",
    "module load python/3.6.5\n",
    "module load intel/2018.2\n",
    "module load intelmpi/2018.2\n",
    "module load fftw-mpi/3.3.7\n",
    "module load hdf5-mpi/1.10.2\n",
    "\n",
    "virtualenv venv\n",
    "source ./venv/bin/activate\n",
    "pip install --only-binary=:all: cython matplotlib numpy scipy six\n",
    "\n",
    "export HDF5_MPI=ON\n",
    "export LDSHARED=\"icc -shared\"\n",
    "pip install --no-binary=:all: mpi4py h5py docopt\n",
    "\n",
    "hash=\"efa5e32b1a71\"  # may change to newer version\n"
   ]
  },
  {
   "cell_type": "markdown",
   "metadata": {},
   "source": [
    "Note: above, the `$hash` is an abbreviated commit hash and refers to a specific version of the code. (Actually, mercurial does not call it a commit hash, that's git. Whatever.) This allows for perfect reproducibility of the runs, but should be updated from this value. My clunky way of doing it is to go to the [downloads page](https://bitbucket.org/dedalus-project/dedalus/downloads/)  on bitbucket, copy the link location of the download, and its end is the short hash. Sometimes however, the latest version does not work (was the case on 29 May 2019). Then, you need to \n",
    "* go to the [commit list](https://bitbucket.org/dedalus-project/dedalus/commits)\n",
    "* click on the latest \"version bump\" commit,\n",
    "* on the RHS of the commit description, click on \"View raw commit\",\n",
    "* the long-version of the hash is on this line:\n",
    "    `# Node ID efa5e32b1a71d4d13edbcfa49322038d9d11c3c9` (for the particular short hash above).\n",
    "* I *think* that the short hash is simply the first 12 characters. At least it was the case in the few tries I did. If you want to check, enter in a browser the url `https://bitbucket.org/dedalus-project/dedalus/get/THELONGHASH.zip`, and it will automatically redirect you to the correct short hash.\n",
    "* Repeat until it works.\n",
    "\n",
    "Once the correct hash is found, continue as below:"
   ]
  },
  {
   "cell_type": "raw",
   "metadata": {},
   "source": [
    "wget \"https://bitbucket.org/dedalus-project/dedalus/get/$hash.zip\"\n",
    "unzip \"$hash.zip\"\n",
    "rm $hash.zip\n",
    "cd dedalus-project-dedalus-$hash\n",
    "\n",
    "export FFTW_PATH=\"$SCINET_FFTW_MPI_ROOT\"\n",
    "export MPI_PATH=\"$I_MPI_ROOT\"\n",
    "python setup.py install\n",
    "\n",
    "export MPLBACKEND=pdf\n",
    "\n",
    "rm ${hash}.zip"
   ]
  },
  {
   "cell_type": "markdown",
   "metadata": {},
   "source": [
    "# Running an interactive job \n",
    "\n",
    "According to [SciNet's instructions](https://docs.scinet.utoronto.ca/index.php/Niagara_Quickstart#Testing_and_Debugging), \n",
    "> Small test jobs can be run on the login nodes. Rule of thumb: tests should run no more than a couple of minutes, taking at most about 1-2GB of memory, and use no more than a couple of cores.\n",
    "\n",
    "This actually is sufficient to test most of the examples, provided with Dedalus. On a login node, insert the following commands (no need to re-load the modules if directly following the steps above):"
   ]
  },
  {
   "cell_type": "raw",
   "metadata": {},
   "source": [
    "module purge\n",
    "module load python/3.6.5\n",
    "module load intel/2018.2\n",
    "module load intelmpi/2018.2\n",
    "module load fftw-mpi/3.3.7\n",
    "module load hdf5-mpi/1.10.2\n",
    "\n",
    "export HDF5_MPI=ON\n",
    "export LDSHARED=\"icc -shared\"\n",
    "export FFTW_PATH=\"$SCINET_FFTW_MPI_ROOT\"\n",
    "export MPI_PATH=\"$I_MPI_ROOT\"\n",
    "export MPLBACKEND=pdf\n",
    "\n",
    "cd ~/MyProject/  # In case we changed directory\n",
    "source ./venv/bin/activate\n",
    "\n",
    "cd dedalus-project-dedalus-$hash/examples/ivp/1d_kdv_burgers/\n",
    "python kdv_burgers.py"
   ]
  },
  {
   "cell_type": "markdown",
   "metadata": {},
   "source": [
    "# Submitting a job to the scheduler"
   ]
  },
  {
   "cell_type": "markdown",
   "metadata": {},
   "source": [
    "Let me use the example in `~/dedalus/examples/ivp/3d_rayleigh_benard`, because a 3D experiment seems appropriate on an HPC machine. However, we need to change the number of gridpoints to make it a multiple of 40."
   ]
  },
  {
   "cell_type": "raw",
   "metadata": {},
   "source": [
    "mkdir ~/MyProject/test_niagara\n",
    "cp ~/MyProject/dedalus-projectexamples/ivp/3d_rayleigh_benard ~/MyProject/test_niagara"
   ]
  },
  {
   "cell_type": "markdown",
   "metadata": {},
   "source": [
    "`Here you need to modify `~/MyProject/test_niagara/rayleigh_benard.py` to have a grid sizes equal to a multiple of 40 in the $x$ and $z$ direction (if the mesh were parallelized in the $y$ direction, we would do so as well). I changed nx to 160 and nz to 80.`"
   ]
  },
  {
   "cell_type": "raw",
   "metadata": {},
   "source": [
    "# Prepare scratch                                                                                    \n",
    "rm -r ${SCRATCH}/dedalus/MyProject/TheJobName\n",
    "cp -r ${HOME}/the/path/to/TheJobName ${SCRATCH}/the/out/path/to\n",
    "cd ${SCRATCH}/the/out/path/to/TheJobName\n",
    "\n",
    "sbatch --job-name=TheJobName lanceur.slrm"
   ]
  },
  {
   "cell_type": "markdown",
   "metadata": {},
   "source": [
    "And here is what a typical slurm script `lanceur.slrm` would look like with the arguments above (members of my group, use `def-ngrisoua`):"
   ]
  },
  {
   "cell_type": "raw",
   "metadata": {},
   "source": [
    "#!/bin/bash\n",
    "#SBATCH --account=def-theaccount\n",
    "#SBATCH --mail-user=jd@ketchupchipsu.ca\n",
    "#SBATCH --mail-type=ALL\n",
    "#SBATCH --ntasks-per-node=40\n",
    "#SBATCH --nodes=1\n",
    "#SBATCH --time=0-02:00  # two hours (note: it took 13 minutes the time I tried)\n",
    "\n",
    "module purge\n",
    "module load python/3.6.5\n",
    "module load intel/2018.2\n",
    "module load intelmpi/2018.2\n",
    "module load fftw-mpi/3.3.7\n",
    "module load hdf5-mpi/1.10.2                                    \n",
    "\n",
    "export HDF5_MPI=ON\n",
    "export LDSHARED=\"icc -shared\"\n",
    "export FFTW_PATH=\"$SCINET_FFTW_MPI_ROOT\"\n",
    "export MPI_PATH=\"$I_MPI_ROOT\"\n",
    "export MPLBACKEND=pdf\n",
    "\n",
    "source ${HOME}/MyProject/venv/bin/activate\n",
    "\n",
    "mpirun python3.6 rayleigh_benard.py\n",
    "\n",
    "deactivate\n",
    "\n",
    "exit"
   ]
  },
  {
   "cell_type": "markdown",
   "metadata": {},
   "source": [
    "Note: if you want to clean up the directory structure, you can remove the `examples` directory. However, it is always useful to have a set of expriments that one can refer to."
   ]
  },
  {
   "cell_type": "markdown",
   "metadata": {},
   "source": [
    "# Syncing with GitHub "
   ]
  },
  {
   "cell_type": "markdown",
   "metadata": {},
   "source": [
    "## Setting up the repo\n",
    "\n",
    "* Go to GitHub (request student or researcher account if you haven't yet) and create a repo called `MyProject` (or whatever you named your project).\n",
    "* Do NOT initialize with a README.md or anything else. That way you will have a completely blank repo and GitHub will give you instructions to initialize it from Niagara.\n",
    "* Follow those instructions.\n",
    "    * `https` instructions: good if you know your GitHub password, and don't bother typing it every time you push something.\n",
    "    * `ssh` instructions: you won't have to type your password, but you will have to do a few manipulations every time you open a new session on Niagara. The first one is to [generate a SSH key](https://help.github.com/en/articles/generating-a-new-ssh-key-and-adding-it-to-the-ssh-agent#generating-a-new-ssh-key), if you do not have one already:\n",
    "    \n",
    "    `ssh-keygen -t rsa -b 4096 -C \"your_email@example.com`\n",
    "    \n",
    "    and follow the instructions. You also need to add the key to the SSH agent (see intructions, though you need to do this only once when you log in) and add the key on GitHub."
   ]
  },
  {
   "cell_type": "markdown",
   "metadata": {},
   "source": [
    "## [ssh only] Initializing the ssh authentication\n",
    "\n",
    "For some reason, you always need to do those two operations every time you open a session on Niagara:"
   ]
  },
  {
   "cell_type": "raw",
   "metadata": {
    "scrolled": true
   },
   "source": [
    "eval \"$(ssh-agent -s)\"\n",
    "ssh-add ~/.ssh/id_rsa  # or whatever your name is called."
   ]
  },
  {
   "cell_type": "markdown",
   "metadata": {},
   "source": [
    "It is going to ask you for your password, but it will do it only once per session."
   ]
  }
 ],
 "metadata": {
  "kernelspec": {
   "display_name": "Python 3",
   "language": "python",
   "name": "python3"
  },
  "language_info": {
   "codemirror_mode": {
    "name": "ipython",
    "version": 3
   },
   "file_extension": ".py",
   "mimetype": "text/x-python",
   "name": "python",
   "nbconvert_exporter": "python",
   "pygments_lexer": "ipython3",
   "version": "3.6.8"
  }
 },
 "nbformat": 4,
 "nbformat_minor": 2
}
