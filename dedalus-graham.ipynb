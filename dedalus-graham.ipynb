{
 "cells": [
  {
   "cell_type": "markdown",
   "metadata": {
    "slideshow": {
     "slide_type": "slide"
    }
   },
   "source": [
    "Below, you will find a series of methods that I (NG) tried to install Dedalus on Graham. Not all work, but some do. Raw cells can be directly copied-and-pasted."
   ]
  },
  {
   "cell_type": "markdown",
   "metadata": {},
   "source": [
    "# Using Graham's native modules"
   ]
  },
  {
   "cell_type": "markdown",
   "metadata": {},
   "source": [
    "## The version that is currently (Dec. 2019) running\n",
    "\n",
    "### Installation\n",
    "\n",
    "Thanks to Julio/Jose Fuentes from McGill.\n",
    "\n",
    "Create a dedalus folder, e.g.,\n",
    "\n",
    "`mkdir ${HOME}/dedalus-JF`\n",
    "\n",
    "and then"
   ]
  },
  {
   "cell_type": "raw",
   "metadata": {},
   "source": [
    "module load python/3.7 scipy-stack fftw-mpi mpi4py\n",
    "virtualenv ${HOME}/dedalus-JF/ddenv\n",
    "source ${HOME}/dedalus-JF/ddenv/bin/activate\n",
    "export FFTW_PATH=$EBROOTFFTW\n",
    "export MPI_PATH=$EBROOTOPENMPI\n",
    "export FFTW_STATIC=1\n",
    "pip3 install dedalus\n"
   ]
  },
  {
   "cell_type": "markdown",
   "metadata": {},
   "source": [
    "### Execution\n",
    "\n",
    "<a id='current_execution'></a>\n",
    "\n",
    "To execute, you need a Dedalus script somewhere. The most universal way to do is to clone the Bitbucket repository, but to only keep the `examples` folder (and might as well keep the `docs` folder):"
   ]
  },
  {
   "cell_type": "raw",
   "metadata": {},
   "source": [
    "cd ${HOME}/dedalus-JF\n",
    "hg clone https://bitbucket.org/dedalus-project/dedalus\n",
    "mv -r dedalus/examples .\n",
    "mv -r dedalus/docs .\n",
    "rm -r dedalus\n"
   ]
  },
  {
   "cell_type": "markdown",
   "metadata": {},
   "source": [
    "We can now run the examples. Let's do a serial example first."
   ]
  },
  {
   "cell_type": "raw",
   "metadata": {},
   "source": [
    "cd ${HOME}/dedalus-JF/examples/ivp/1d_kdv_burgers/\n",
    "python kdv_burgers.py\n"
   ]
  },
  {
   "cell_type": "markdown",
   "metadata": {},
   "source": [
    "Let's now try an interactive parallel run (**replace `def-ngrisoua` by the correct account!**)."
   ]
  },
  {
   "cell_type": "raw",
   "metadata": {},
   "source": [
    "cd ${HOME}/dedalus-JF/examples/ivp/3d_rayleigh_benard/\n",
    "\n",
    "salloc --time=0:30:0 --ntasks=32 --account=def-ngrisoua  # 32 cores for 15 minutes\n",
    "# you have to wait for the request to be granted\n",
    "mpiexec -n 32 python rayleigh_benard.py\n",
    "exit\n"
   ]
  },
  {
   "cell_type": "markdown",
   "metadata": {},
   "source": [
    "Careful, 32 cores for 30 minutes is a lot to request and they may take a while to be granted. If you are doing multiple things at once, it is easy to forget about it, and have the request be granted and expire within the time frame. On the scheduler, the run takes 16 to 17 minutes walltime.\n",
    "\n",
    "For submission on the scheduler, here would be a submission sequence (place in a file and add `#!/bin/bash` as a first line to turn into script; location of said file would not matter here because all paths are absolute):"
   ]
  },
  {
   "cell_type": "raw",
   "metadata": {},
   "source": [
    "mkdir -p ${SCRATCH}/dedalus-JF/\n",
    "\n",
    "cp -r ${HOME}/dedalus-JF/examples/ivp/3d_rayleigh_benard ${SCRATCH}/dedalus-JF/.\n",
    "cp -r ${HOME}/dedalus-JF/lanceur-gra.slrm ${SCRATCH}/dedalus-JF/3d_rayleigh_benard/.\n",
    "cd ${SCRATCH}/dedalus-JF/3d_rayleigh_benard\n",
    "\n",
    "sbatch --job-name=3d_RB --nodes=1 --time=0-00:30 lanceur-gra.slrm\n"
   ]
  },
  {
   "cell_type": "markdown",
   "metadata": {},
   "source": [
    "The `lanceur-gra.slrm` mentioned above would be placed in `${HOME}/dedalus-JF/` and would contain:"
   ]
  },
  {
   "cell_type": "raw",
   "metadata": {},
   "source": [
    "#!/bin/bash\n",
    "#SBATCH --account=def-ngrisoua  # ADJUST\n",
    "#SBATCH --mail-user=ngrisoua@physics.utoronto.ca  # ADJUST\n",
    "#SBATCH --mail-type=ALL\n",
    "#SBATCH --ntasks-per-node=32\n",
    "#SBATCH --mem=0\n",
    "\n",
    "export FFTW_PATH=$EBROOTFFTW\n",
    "export MPI_PATH=$EBROOTOPENMPI\n",
    "export FFTW_STATIC=1\n",
    "# export OMPI_MCA_mpi_warn_on_fork=0\n",
    "\n",
    "module purge\n",
    "module load python/3.7 scipy-stack fftw-mpi mpi4py\n",
    "\n",
    "source ${HOME}/dedalus-JF/ddenv/bin/activate\n",
    "\n",
    "mpiexec -n ${SLURM_NTASKS} python rayleigh_benard.py\n",
    "# srun python rayleigh_benard.py  # I'm not sure which one is best: mpiexec or srun.\n",
    "\n",
    "exit  # just to make sure\n"
   ]
  },
  {
   "cell_type": "markdown",
   "metadata": {},
   "source": [
    "When I tried, it ran in 16 mins and took 5 to 6 Gb."
   ]
  },
  {
   "cell_type": "markdown",
   "metadata": {},
   "source": [
    "### To-do's\n",
    "\n",
    "* Would be great to be able to create a virtual environment from within a job. The following link suggests that it may improve performance:\n",
    "\n",
    "    https://docs.computecanada.ca/wiki/Python#Creating_virtual_environments_inside_of_your_jobs\n",
    "\n",
    "    Current problem is that it seems to require an internet connection for the `pip install dedalus`, which we don't have on a compute node.\n",
    "    \n",
    "* Would be great to download a specific hash, for reproducibility purposes."
   ]
  },
  {
   "cell_type": "markdown",
   "metadata": {},
   "source": [
    "***\n",
    "\n",
    "*Everything below is outdated.*\n",
    "\n",
    "## Evgeny Evgeny Naumov's version (7 July 2018)\n",
    "\n",
    "Last tested in December 2019. Support from Compute Canada back in August 2018 was under Ticket `#030957`.\n",
    "\n",
    "The main difference with the version above is that instead of doing `pip install dedalus` directly, the pip install fetches the lastest version on Bitbucket. In 2018, as well as with the method above, the version is and was `dedalus-2.1810` (I think... it was `2.18`-something for sure). As of 9 Dec 2019, the version is `dedalus-2.1905b`. Other differences are that the python modules that are loaded and pip installed are slightly different.\n",
    "\n",
    "This version and the next did not work back in 2018. The best I got was to run serial jobs, but running parallel jobs eventually led to a segmentation fault.\n",
    "\n",
    "**Edit April 2019**: I compared the execution time on a serial job (`examples/ivp/2d_rayleigh_benard`). While the user time was the same for both methods (1m02s), the real time was much longer for this method (>5m) than for the Conda method (1m06s). \n",
    "\n",
    "**Edit 9 Dec. 2019**: It works now!\n",
    "\n",
    "### Installation\n",
    "\n",
    "Starting from `$HOME`,"
   ]
  },
  {
   "cell_type": "raw",
   "metadata": {},
   "source": [
    "module purge\n",
    "module load openmpi fftw-mpi\n",
    "export MPI_PATH=$EBROOTOPENMPI\n",
    "export FFTW_PATH=$EBROOTFFTW\n",
    "module load python/3.7\n",
    "# note: Naumov's python version was 3.6 back then; both work as of 9 Dec 2019\n",
    "\n",
    "mkdir dedalus-EN\n",
    "cd dedalus-EN\n",
    "mkdir ddenv ; virtualenv ddenv; source ddenv/bin/activate\n",
    "pip install cython numpy mpi4py scipy h5py --no-index\n",
    "pip install hg+https://bitbucket.org/dedalus-project/dedalus\n"
   ]
  },
  {
   "cell_type": "markdown",
   "metadata": {},
   "source": [
    "The second-to-last line above basically reproduces some of the contents of `requirements.txt` and it seems to be enough. Maybe we should just install all of the contents of `requirements.txt`. The last line installs Dedalus from source."
   ]
  },
  {
   "cell_type": "markdown",
   "metadata": {},
   "source": [
    "Finally, install dedalus from source:\n",
    "\n",
    "`(ddenv) $ pip install hg+https://bitbucket.org/dedalus-project/dedalus`\n"
   ]
  },
  {
   "cell_type": "markdown",
   "metadata": {},
   "source": [
    "### Execution\n",
    "\n",
    "We reproduce the steps [of the current execution procedure](current_execution), replacing the folder `dedalus-JF` with `dedalus-EN`."
   ]
  },
  {
   "cell_type": "raw",
   "metadata": {},
   "source": [
    "cd ${HOME}/dedalus-EN\n",
    "hg clone https://bitbucket.org/dedalus-project/dedalus\n",
    "mv -r dedalus/examples .\n",
    "mv -r dedalus/docs .\n",
    "rm -r dedalus\n"
   ]
  },
  {
   "cell_type": "markdown",
   "metadata": {},
   "source": [
    "We can now run the examples. Let's do a serial example first."
   ]
  },
  {
   "cell_type": "raw",
   "metadata": {},
   "source": [
    "cd ${HOME}/dedalus-EN/examples/ivp/1d_kdv_burgers/\n",
    "python kdv_burgers.py\n"
   ]
  },
  {
   "cell_type": "markdown",
   "metadata": {},
   "source": [
    "Let's skip the interactive session and jump to the scheduler submission. Here would be a submission sequence (place in a file and add `#!/bin/bash` as a first line to turn into script; location of said file would not matter here because all paths are absolute):"
   ]
  },
  {
   "cell_type": "raw",
   "metadata": {},
   "source": [
    "mkdir -p ${SCRATCH}/dedalus-EN/\n",
    "\n",
    "cp -r ${HOME}/dedalus-EN/examples/ivp/3d_rayleigh_benard ${SCRATCH}/dedalus-EN/.\n",
    "cp -r ${HOME}/dedalus-EN/lanceur-gra.slrm ${SCRATCH}/dedalus-EN/3d_rayleigh_benard/.\n",
    "cd ${SCRATCH}/dedalus-EN/3d_rayleigh_benard\n",
    "\n",
    "sbatch --job-name=3d_RB --nodes=1 --time=0-00:30 lanceur-gra.slrm\n"
   ]
  },
  {
   "cell_type": "markdown",
   "metadata": {},
   "source": [
    "The `lanceur-gra.slrm` is the same as above, just replace `dedalus-JF` by `dedalus-EN` in it."
   ]
  },
  {
   "cell_type": "markdown",
   "metadata": {},
   "source": [
    "### Remarks\n",
    "\n",
    "* Back in the Summer of 2018, `fftw` did not work for some reason. Maxime Boissoneault had found a workaround (see below), though I encontered a problem later (see below, again). As of today, the version above works. I am keeping M.B.'s workaround, in case it happens again. As of 9 Dec. 2019 though, you can skip.\n",
    "\n",
    "* Same to-do's apply as for the currently working version.\n",
    "\n",
    "* This version uses a a little more memory than the currently working version. For the `3d_rayleigh_benard` case, it uses 5.99 GB, and 5.45 GB for the previous version. This is in line with my memories from some time back."
   ]
  },
  {
   "cell_type": "markdown",
   "metadata": {},
   "source": [
    "## Maxime Boissonneault to the rescue (18 July - 9 August 2018)"
   ]
  },
  {
   "cell_type": "markdown",
   "metadata": {},
   "source": [
    "M.B. found a solution to the problem that existed here:\n",
    "\n",
    "https://groups.google.com/forum/#!msg/dedalus-users/01kC06t7S9g/AlILy-6pDAAJ"
   ]
  },
  {
   "cell_type": "markdown",
   "metadata": {},
   "source": [
    "So, first, remove everything: deactivate whatever is activated, purge whatever is loaded, delete all directories, and clone the code in a folder with its own name, to not mix things up with other installs."
   ]
  },
  {
   "cell_type": "raw",
   "metadata": {},
   "source": [
    "hg clone https://bitbucket.org/dedalus-project/dedalus dedalus-hg\n",
    "cd dedalus-hg"
   ]
  },
  {
   "cell_type": "markdown",
   "metadata": {},
   "source": [
    "Then, edit Dedalus's `setup.py` in the following manner. Look for this passage:"
   ]
  },
  {
   "cell_type": "raw",
   "metadata": {},
   "source": [
    "Extension(\n",
    "    name='dedalus.libraries.fftw.fftw_wrappers',\n",
    "    sources=['dedalus/libraries/fftw/fftw_wrappers.pyx'],\n",
    "    include_dirs=include_dirs,\n",
    "    libraries=libraries,\n",
    "    library_dirs=library_dirs,\n",
    "    extra_compile_args=[\"-Wno-error=declaration-after-statement\"]),"
   ]
  },
  {
   "cell_type": "markdown",
   "metadata": {},
   "source": [
    "and add an extra bit at the end so that it becomes"
   ]
  },
  {
   "cell_type": "raw",
   "metadata": {},
   "source": [
    "Extension(\n",
    "    name='dedalus.libraries.fftw.fftw_wrappers',\n",
    "    sources=['dedalus/libraries/fftw/fftw_wrappers.pyx'],\n",
    "    include_dirs=include_dirs,\n",
    "    libraries=libraries,\n",
    "    library_dirs=library_dirs,\n",
    "    extra_compile_args=[\"-Wno-error=declaration-after-statement\"],\n",
    "    extra_link_args=[\"-Xlinker\",\n",
    "                     \"-Bsymbolic\",\n",
    "                     \"-Wl,--whole-archive\",\n",
    "                     get_lib('fftw') + \"/libfftw3.a\",\n",
    "                     get_lib('fftw') + \"/libfftw3_omp.a\",\n",
    "                     get_lib('fftw') + \"/libfftw3_mpi.a\",\n",
    "                     \"-Wl,--no-whole-archive\"]),"
   ]
  },
  {
   "cell_type": "markdown",
   "metadata": {},
   "source": [
    "After that, run: "
   ]
  },
  {
   "cell_type": "raw",
   "metadata": {},
   "source": [
    "module purge\n",
    "module load openmpi fftw-mpi mpi4py \n",
    "export MPI_PATH=$EBROOTOPENMPI\n",
    "export FFTW_PATH=$EBROOTFFTW\n",
    "module load python/3.6\n",
    "mkdir ddenv ; virtualenv ddenv; source ddenv/bin/activate\n",
    "# at this point you need to be one level above the cloned dedalus\n",
    "pip install -r requirements.txt\n"
   ]
  },
  {
   "cell_type": "markdown",
   "metadata": {},
   "source": [
    "I still quite understand what \"creating a wheel\" means, and you may want to vary the name of the wheel, but here it is."
   ]
  },
  {
   "cell_type": "raw",
   "metadata": {},
   "source": [
    "pip wheel .  # this will create a binary wheel out of the Dedalus source code\n",
    "pip install dedalus-2.1810-cp36-cp36m-linux_x86_64.whl\n"
   ]
  },
  {
   "cell_type": "markdown",
   "metadata": {},
   "source": [
    "At this point, the examples should run interactively on one processor."
   ]
  },
  {
   "cell_type": "markdown",
   "metadata": {},
   "source": [
    "## Running interactively"
   ]
  },
  {
   "cell_type": "markdown",
   "metadata": {},
   "source": [
    "In any case, first load everything:"
   ]
  },
  {
   "cell_type": "raw",
   "metadata": {},
   "source": [
    "module purge\n",
    "module load python/3.6 openmpi fftw-mpi mpi4py hdf5-mpi\n",
    "export MPI_PATH=$EBROOTOPENMPI\n",
    "export FFTW_PATH=$EBROOTFFTW\n",
    "cd ~/project/ngrisoua/\n",
    "source ddenv/bin/activate"
   ]
  },
  {
   "cell_type": "markdown",
   "metadata": {},
   "source": [
    "If you then only need to check on one processor:"
   ]
  },
  {
   "cell_type": "raw",
   "metadata": {},
   "source": [
    "cd dedalus/examples/ivp/1d_kdv_burgers/\n",
    "# or move examples in a working directory and go there\n",
    "python3.6 kdv_burgers.py\n"
   ]
  },
  {
   "cell_type": "markdown",
   "metadata": {},
   "source": [
    "This one works.\n",
    "\n",
    "If on the other had you want to try a few processors, follow the instructions of https://docs.computecanada.ca/wiki/Running_jobs#Interactive_jobs:"
   ]
  },
  {
   "cell_type": "raw",
   "metadata": {},
   "source": [
    "cd ~/project/ngrisoua/dedalus/examples/ivp/2d_rayleigh_benard/\n",
    "salloc --time=0:5:0 --ntasks=4 --account=def-ngrisoua  # 4 cores for 5 minutes\n",
    "# you may have to wait for the request to be granted\n",
    "mpiexec -n 4 python3.6 rayleigh_benard.py\n",
    "exit\n"
   ]
  },
  {
   "cell_type": "markdown",
   "metadata": {},
   "source": [
    "After running the initializing steps (creating the pencil mostly), a segfault happens."
   ]
  },
  {
   "cell_type": "markdown",
   "metadata": {},
   "source": [
    "## Submitting a job"
   ]
  },
  {
   "cell_type": "markdown",
   "metadata": {},
   "source": [
    "The steps below pretty much reproduce the steps above, including what does not work.\n",
    "\n",
    "I will assume I installed dedalus such that its folder is `~/projects/def-ngrisoua/ngrisoua/dedalus`, which you might want to adapt.\n",
    "Let me use the example in `~/projects/def-ngrisoua/ngrisoua/dedalus/examples/ivp/3d_rayleigh_benard`, because a 3D experiment seems appropriate on an HPC machine.\n",
    "\n",
    "Below is a 'cookbook' of the list of steps one has to do to submit a slurm job. "
   ]
  },
  {
   "cell_type": "raw",
   "metadata": {},
   "source": [
    "#!/bin/bash\n",
    "\n",
    "setup=3d_rayleigh_benard\n",
    "\n",
    "# Prepare scratch for code and data dump\n",
    "rm -r ${SCRATCH}/dedalus/$setup\n",
    "cp -r ${HOME}/projects/def-ngrisoua/ngrisoua/dd_tests/${setup} ${SCRATCH}/dedalus/.\n",
    "cd ${SCRATCH}/dedalus/$1\n",
    "\n",
    "sbatch lanceur.slrm\n"
   ]
  },
  {
   "cell_type": "markdown",
   "metadata": {},
   "source": [
    "And here is what a typical slurm script `lanceur.slrm` would look like:"
   ]
  },
  {
   "cell_type": "raw",
   "metadata": {},
   "source": [
    "#!/bin/bash\n",
    "#SBATCH --job-name=3d_rayleigh_benard  # has to be same as folder where scripts are\n",
    "#SBATCH --ntasks=8\n",
    "#SBATCH --mem-per-cpu=3G\n",
    "#SBATCH --account=def-JD  # whatever your account is\n",
    "#SBATCH --time=0-00:15  # DD-HH:MM\n",
    "#SBATCH --mail-user=JD@ketchupchips.ca\n",
    "#SBATCH --mail-type=ALL\n",
    "\n",
    "module purge\n",
    "module load openmpi\n",
    "module load fftw-mpi\n",
    "module load hdf5-mpi\n",
    "module load mpi4py\n",
    "module load python/3.6\n",
    "\n",
    "source ${HOME}/projects/def-ngrisoua/ngrisoua/ddenv/bin/activate\n",
    "\n",
    "export MPI_PATH=$EBROOTOPENMPI\n",
    "export FFTW_PATH=$EBROOTFFTW\n",
    "\n",
    "srun python3.6 ${SLURM_JOB_NAME}.py  # python script + folder name have to match\n",
    "\n",
    "#srun python3.6 merge.py snapshots\n",
    "#srun python3.6 plot_2d_series.py snapshots/*.h5\n",
    "\n",
    "deactivate\n",
    "\n",
    "exit"
   ]
  },
  {
   "cell_type": "markdown",
   "metadata": {},
   "source": [
    "After which the same segfault happens."
   ]
  },
  {
   "cell_type": "markdown",
   "metadata": {},
   "source": [
    "# Using the conda install\n",
    "\n",
    "Last tested in April 2019, with the help of Ramses van Zon (Compute Canada Support Ticket `#047249`).\n",
    "\n",
    "The code works serially, and in parallel up until 16 processors. Beyond 16 processors, I run into an error. Since I have two versions that work as of 9 Dec. 2019, I did not update what follows."
   ]
  },
  {
   "cell_type": "markdown",
   "metadata": {},
   "source": [
    "## Installing\n",
    "\n",
    "To keep all of the different install neatly separated, create your own test folder, here `dedalus-conda`."
   ]
  },
  {
   "cell_type": "raw",
   "metadata": {},
   "source": [
    "mkdir ~/dedalus-conda\n",
    "cd ~/dedalus-conda\n",
    "module --force purge\n",
    "module load nixpkgs\n",
    "wget https://repo.anaconda.com/miniconda/Miniconda3-latest-Linux-x86_64.sh\n",
    "chmod +x ./Miniconda3-latest-Linux-x86_64.sh\n",
    "./Miniconda3-latest-Linux-x86_64.sh\n"
   ]
  },
  {
   "cell_type": "markdown",
   "metadata": {},
   "source": [
    "A few prompts will appear: do you agree with the licence agreement, location of installation, maybe some more, until the last one:\n"
   ]
  },
  {
   "cell_type": "raw",
   "metadata": {},
   "source": [
    "Do you wish the installer to initialize Miniconda3\n",
    "in your /home/ngrisoua/.bashrc ? [yes|no]"
   ]
  },
  {
   "cell_type": "markdown",
   "metadata": {},
   "source": [
    "I answered yes. Note that this adds lines to your `.bashrc` which include paths like `/home/yourusername/miniconda3`. I read somewhere that is it safer to replace `/home/yourusername` by `${HOME}`, in case Graham people decided to change their path structures.\n",
    "\n",
    "The installation then proceeds as"
   ]
  },
  {
   "cell_type": "raw",
   "metadata": {},
   "source": [
    "wget --no-check-certificate https://raw.githubusercontent.com/DedalusProject/conda_dedalus/master/install_conda.sh\n"
   ]
  },
  {
   "cell_type": "markdown",
   "metadata": {},
   "source": [
    "*Note: the above is one long line.*\n",
    "\n",
    "*Note for the future: for reproducibility, I should find a way to download a specific hash, rather than the lastest version.*"
   ]
  },
  {
   "cell_type": "raw",
   "metadata": {},
   "source": [
    "export MPI_PATH=$EBROOTOPENMPI\n",
    "export FFTW_PATH=$EBROOTFFTW\n",
    "conda activate base\n",
    "bash install_conda.sh\n"
   ]
  },
  {
   "cell_type": "markdown",
   "metadata": {},
   "source": [
    "***\n",
    "\n",
    "**Edit 5 Dec. 2019:** I did not need the two export statements above before. Today, I needed them for the last command to execute.\n",
    "\n",
    "***\n",
    "\n",
    "At this point, the dedalus environment is installed as part of the Conda distribution. Note that you do not have access to all of the examples, provided when you download dedalus. You still have to either download them, or try the examples below with your favourite dedalus script."
   ]
  },
  {
   "cell_type": "markdown",
   "metadata": {},
   "source": [
    "## Running interactively"
   ]
  },
  {
   "cell_type": "raw",
   "metadata": {},
   "source": [
    "module --force purge\n",
    "module load nixpkgs\n",
    "# export PATH=\"$HOME/miniconda3/bin:$PATH\" # .bashrc\n",
    "conda activate dedalus\n"
   ]
  },
  {
   "cell_type": "markdown",
   "metadata": {},
   "source": [
    "Serial test:"
   ]
  },
  {
   "cell_type": "raw",
   "metadata": {},
   "source": [
    "cd PATH/TO/examples/ivp/1d_kdv_burgers/\n",
    "# or move examples in a working directory and go there\n",
    "python3.7 kdv_burgers.py\n"
   ]
  },
  {
   "cell_type": "markdown",
   "metadata": {},
   "source": [
    "Parallel test:"
   ]
  },
  {
   "cell_type": "raw",
   "metadata": {},
   "source": [
    "cd PATH/TO/examples/ivp/2d_rayleigh_benard/\n",
    "salloc --time=0:5:0 --ntasks=4 --account=def-ngrisoua  # 4 cores for 5 minutes\n",
    "# you may have to wait for the request to be granted\n"
   ]
  },
  {
   "cell_type": "raw",
   "metadata": {},
   "source": [
    "mpiexec -n 4 python3.7 rayleigh_benard.py\n",
    "exit\n"
   ]
  },
  {
   "cell_type": "markdown",
   "metadata": {},
   "source": [
    "## Submitting to the scheduler\n",
    "\n",
    "Below is a 'cookbook' of the steps, one needs to follow in order to submit to the scheduler. They could form the basis of a `master-core.bash` script:"
   ]
  },
  {
   "cell_type": "raw",
   "metadata": {},
   "source": [
    "#!/bin/bash\n",
    "\n",
    "setup=3d_rayleigh_benard\n",
    "\n",
    "# Prepare scratch for code and data dump\n",
    "rm -r ${SCRATCH}/dedalus/$setup\n",
    "cp -r ${HOME}/dedalus-vessel/dd_tests/${setup} ${SCRATCH}/dedalus/.\n",
    "cd ${SCRATCH}/dedalus/$1\n",
    "\n",
    "sbatch lanceur.slrm"
   ]
  },
  {
   "cell_type": "markdown",
   "metadata": {},
   "source": [
    "And here is what a typical slurm script `lanceur.slrm` would look like:"
   ]
  },
  {
   "cell_type": "raw",
   "metadata": {},
   "source": [
    "#!/bin/bash\n",
    "#SBATCH --job-name=3d_rayleigh_benard  # has to be same as folder where scripts are\n",
    "#SBATCH --ntasks=8\n",
    "#SBATCH --mem-per-cpu=3G\n",
    "#SBATCH --account=def-ngrisoua  # or whatever your account is\n",
    "#SBATCH --time=0-00:15  # DD-HH:MM\n",
    "#SBATCH --mail-user=ngrisoua@physics.utoronto.ca\n",
    "#SBATCH --mail-type=ALL\n",
    "\n",
    "module --force purge\n",
    "module load nixpkgs\n",
    "\n",
    "# I may have to do this since it might be outside of .bashrc's reach\n",
    "# source ${HOME}/miniconda3/etc/profile.d/conda.sh\n",
    "\n",
    "conda activate dedalus\n",
    "\n",
    "srun python3.7 ${SLURM_JOB_NAME}.py  # python script + folder name have to match\n",
    "\n",
    "#srun python3.6 merge.py snapshots\n",
    "#srun python3.6 plot_2d_series.py snapshots/*.h5\n",
    "\n",
    "conda deactivate\n",
    "\n",
    "exit"
   ]
  },
  {
   "cell_type": "code",
   "execution_count": null,
   "metadata": {},
   "outputs": [],
   "source": []
  }
 ],
 "metadata": {
  "kernelspec": {
   "display_name": "Python 3",
   "language": "python",
   "name": "python3"
  },
  "language_info": {
   "codemirror_mode": {
    "name": "ipython",
    "version": 3
   },
   "file_extension": ".py",
   "mimetype": "text/x-python",
   "name": "python",
   "nbconvert_exporter": "python",
   "pygments_lexer": "ipython3",
   "version": "3.7.3"
  }
 },
 "nbformat": 4,
 "nbformat_minor": 2
}
